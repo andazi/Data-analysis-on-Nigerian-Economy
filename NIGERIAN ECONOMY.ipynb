{
 "cells": [
  {
   "cell_type": "markdown",
   "id": "61821dfa",
   "metadata": {},
   "source": [
    "# Project Title: Analysis of Nigeria's Economic Performance\n",
    "\n",
    "## Introduction\n",
    "\n",
    "In today's data-driven world, understanding the economic trends and performance of individual countries is crucial. This project aims to analyze the economic indicators of Nigeria, a prominent African nation, using Python and data analysis techniques. Despite having no prior background in economics, this analysis allows for a detailed exploration of Nigeria's economic landscape.\n",
    "\n",
    "## Dataset\n",
    "\n",
    "For this analysis, I utilized a dataset containing economic data for multiple African countries. However, the focus of this project is solely on Nigeria. The dataset includes information on GDP growth rates, inflation, government expenditure, trade balances, and other relevant economic metrics. It covers a range of years, allowing for a historical perspective on Nigeria's economic trends.\n",
    "\n",
    "## Objectives\n",
    "\n",
    "1. **Exploration:** Gain a comprehensive understanding of Nigeria's economic indicators.\n",
    "\n",
    "2. **GDP Growth Trends:** Analyze the historical GDP growth trends in Nigeria.\n",
    "\n",
    "3. **Inflation Analysis:** Explore the relationship between inflation rates and GDP growth in Nigeria.\n",
    "\n",
    "4. **Economic Correlation:** Investigate GDP growth correlation with other economic indicators.\n",
    "\n",
    "## Methodology\n",
    "\n",
    "### Data Preparation\n",
    "\n",
    "I began by loading the dataset into Python using the Pandas library and then filtered the data to include only information related to Nigeria.\n",
    "\n",
    "### Data Exploration\n",
    "\n",
    "I conducted initial data exploration to understand the structure and contents of the dataset specific to Nigeria. Visualizations, including line plots, bar plots and scatter plots, were created to visualize trends and correlations within the data.\n",
    "\n",
    "### Analysis\n",
    "\n",
    "#### GDP Growth Trends\n",
    "I used line and bar plots to visualize GDP growth rates in Nigeria over time, allowing me to identify trends and variations in economic performance.\n",
    "\n",
    "#### Inflation Analysis\n",
    "Scatter plots were employed to investigate the relationship between inflation rates and GDP growth in Nigeria, offering insights into potential correlations.\n",
    "\n",
    "#### Economic Correlation\n",
    "I explored Nigeria's trade balances by comparing other economic indicators and GDP growth rates, shedding light on the influence on GDP Growth of the country.\n",
    "\n",
    "## Findings\n",
    "\n",
    "- Nigeria's GDP growth exhibited variations over the years, with periods of growth and recession.\n",
    "- Inflation rates did not consistently correspond to lower GDP growth, suggesting complex economic dynamics.\n",
    "- Exports of goods and services have the most significant positive influence on Real GDP growth based on the correlations.\n",
    "\n",
    "## Conclusion\n",
    "\n",
    "This analysis, though undertaken without prior economic expertise, reveals essential insights into Nigeria's economic performance.\n",
    "\n",
    "**GDP Growth Trends:** Nigeria's economy has displayed periods of significant growth and recession, reflecting its complexity.\n",
    "\n",
    "**Inflation Analysis:** The relationship between inflation and GDP growth is nuanced, defying conventional expectations.\n",
    "\n",
    "**Economic Correlation:** Exports of goods and services emerge as a crucial driver of Real GDP growth in Nigeria.\n",
    "\n",
    "In summary, this analysis underscores the dynamic nature of Nigeria's economy and the need for in-depth research by experts. It serves as a foundational exploration of Nigeria's economic landscape and highlights the role of data analysis in understanding complex economic dynamics.\n",
    "\n",
    "## Future Directions\n",
    "\n",
    "In future research, experts can create comprehensive economic models considering various indicators and analyze how political factors influence economic performance. They can also develop predictive models to anticipate trends, study economic differences between regions, and assess Nigeria's ability to withstand global crises. This research aims to help policymakers and organizations make informed decisions for Nigeria's sustainable economic development while ensuring environmental and social well-being."
   ]
  },
  {
   "cell_type": "code",
   "execution_count": 51,
   "id": "08dfaf8f",
   "metadata": {},
   "outputs": [],
   "source": [
    "# Importing our libraries\n",
    "import pandas as pd  # Data manipulation\n",
    "import numpy as np   # Numerical operations\n",
    "import matplotlib.pyplot as plt  # Data visualization"
   ]
  },
  {
   "cell_type": "code",
   "execution_count": 58,
   "id": "66819687",
   "metadata": {},
   "outputs": [
    {
     "data": {
      "text/plain": [
       "(2322, 31)"
      ]
     },
     "execution_count": 58,
     "metadata": {},
     "output_type": "execute_result"
    }
   ],
   "source": [
    "# loading the dataset\n",
    "\n",
    "dataset = pd.read_csv('ObservationData_lavlqce.csv')\n",
    "dataset.shape"
   ]
  },
  {
   "cell_type": "code",
   "execution_count": 3,
   "id": "ffb75958",
   "metadata": {},
   "outputs": [
    {
     "data": {
      "text/plain": [
       "['Country',\n",
       " 'Year',\n",
       " 'Real per Capita GDP Growth Rate (annual %)',\n",
       " 'Real GDP growth (annual %)',\n",
       " 'Gross domestic product, (constant prices US$)',\n",
       " 'Gross domestic product, current prices (current US$)',\n",
       " 'Final consumption expenditure  (current US$)',\n",
       " 'General government final consumption expenditure (current US$)',\n",
       " 'Household final consumption expenditure (current US$)',\n",
       " 'Gross capital formation (current US$)',\n",
       " 'Gross capital formation, Private sector  (current US$)',\n",
       " 'Gross capital formation, Public sector  (current US$)',\n",
       " 'Exports of goods and services (current US$)',\n",
       " 'Imports of goods and services (current US$)',\n",
       " 'Final consumption expenditure  (% of GDP)',\n",
       " 'General government final consumption expenditure (% of GDP)',\n",
       " 'Household final consumption expenditure  (% of GDP)',\n",
       " 'Gross capital formation (% of GDP)',\n",
       " 'Gross capital formation, Private sector (% GDP)',\n",
       " 'Gross capital formation, Public sector (% GDP)',\n",
       " 'Exports of goods and services (% of GDP)',\n",
       " 'Imports of goods and services (% of GDP)',\n",
       " 'Central government, Fiscal Balance (Current US $)',\n",
       " 'Central government, total revenue and grants  (Current US $)',\n",
       " 'Central government, total expenditure and net lending  (Current US $)',\n",
       " 'Central government, Fiscal Balance (% of GDP)',\n",
       " 'Central government, total revenue and grants  (% of GDP)',\n",
       " 'Central government, total expenditure and net lending  (% of GDP)',\n",
       " 'Current account balance (Net, BoP, cur. US$)',\n",
       " 'Current account balance (As % of GDP)',\n",
       " 'Inflation, consumer prices (annual %)']"
      ]
     },
     "execution_count": 3,
     "metadata": {},
     "output_type": "execute_result"
    }
   ],
   "source": [
    "list(dataset.columns) # listing the full columns names for better visualization"
   ]
  },
  {
   "cell_type": "code",
   "execution_count": 4,
   "id": "6e17c4a4",
   "metadata": {},
   "outputs": [
    {
     "data": {
      "text/plain": [
       "array(['Malawi', 'Algeria', 'Angola', 'Benin', 'Botswana', 'Burkina Faso',\n",
       "       'Burundi', 'Cameroon', 'Cabo Verde', 'Central African Republic',\n",
       "       'Chad', 'Comoros', 'Congo, Dem. Rep.', 'Congo, Rep.',\n",
       "       \"Cote d'Ivoire\", 'Djibouti', 'Egypt', 'Equatorial Guinea',\n",
       "       'Eritrea', 'eSwatini', 'Ethiopia', 'Gabon', 'Gambia', 'Ghana',\n",
       "       'Guinea', 'Guinea-Bissau', 'Kenya', 'Lesotho', 'Liberia', 'Libya',\n",
       "       'Madagascar', 'Mali', 'Mauritania', 'Mauritius', 'Morocco',\n",
       "       'Mozambique', 'Namibia', 'Niger', 'Nigeria', 'Rwanda',\n",
       "       'Sao Tome and Principe', 'Senegal', 'Seychelles', 'Sierra Leone',\n",
       "       'Somalia', 'South Africa', 'South Sudan', 'Sudan', 'Tanzania',\n",
       "       'Togo', 'Tunisia', 'Uganda', 'Zambia', 'Zimbabwe'], dtype=object)"
      ]
     },
     "execution_count": 4,
     "metadata": {},
     "output_type": "execute_result"
    }
   ],
   "source": [
    "dataset['Country'].unique() # list of countries in our dataset"
   ]
  },
  {
   "cell_type": "markdown",
   "id": "0ed93bf2",
   "metadata": {},
   "source": [
    "1. **Country:** You will likely need this column to identify and group data by different African countries.\n",
    "\n",
    "2. **Year:** This column allows you to analyze trends over time and conduct time-series analysis.\n",
    "\n",
    "3. **Real GDP growth (annual %):** This is a key indicator for studying economic growth trends. It's a common choice for analysis.\n",
    "\n",
    "4. **Inflation, consumer prices (annual %):** This can be used to examine the impact of inflation on economic growth.\n",
    "\n",
    "5. **Exports of goods and services (% of GDP):** Useful for understanding the importance of exports in a country's economy.\n",
    "\n",
    "6. **Imports of goods and services (% of GDP):** Helps analyze the significance of imports in relation to GDP.\n",
    "\n",
    "7. **Gross capital formation (% of GDP):** Indicates the investment in a country's economy, which is essential for growth analysis.\n",
    "\n",
    "8. **Current account balance (Net, BoP, cur. US$):** Useful for assessing the overall trade balance.\n",
    "\n",
    "9. **General government final consumption expenditure (% of GDP):** Offers insights into government spending.\n",
    "\n",
    "10. **Household final consumption expenditure (% of GDP):** Reflects consumer spending.\n"
   ]
  },
  {
   "cell_type": "code",
   "execution_count": 5,
   "id": "9fc79dcb",
   "metadata": {},
   "outputs": [],
   "source": [
    "# List of selected columns for the analysis\n",
    "selected_columns = [\n",
    "    'Country',\n",
    "    'Year',\n",
    "    'Real GDP growth (annual %)',\n",
    "    'Inflation, consumer prices (annual %)',\n",
    "    'Exports of goods and services (% of GDP)',\n",
    "    'Imports of goods and services (% of GDP)',\n",
    "    'Gross capital formation (% of GDP)',\n",
    "    'Current account balance (Net, BoP, cur. US$)',\n",
    "    'General government final consumption expenditure (% of GDP)',\n",
    "    'Household final consumption expenditure  (% of GDP)'\n",
    "]\n",
    "\n",
    "dataset_selected = dataset[selected_columns]"
   ]
  },
  {
   "cell_type": "code",
   "execution_count": 6,
   "id": "f00d98ed",
   "metadata": {},
   "outputs": [
    {
     "data": {
      "text/plain": [
       "Country                                                          0\n",
       "Year                                                             0\n",
       "Real GDP growth (annual %)                                      84\n",
       "Inflation, consumer prices (annual %)                          154\n",
       "Exports of goods and services (% of GDP)                        83\n",
       "Imports of goods and services (% of GDP)                        83\n",
       "Gross capital formation (% of GDP)                              83\n",
       "Current account balance (Net, BoP, cur. US$)                   118\n",
       "General government final consumption expenditure (% of GDP)     83\n",
       "Household final consumption expenditure  (% of GDP)             83\n",
       "dtype: int64"
      ]
     },
     "execution_count": 6,
     "metadata": {},
     "output_type": "execute_result"
    }
   ],
   "source": [
    "dataset_selected.isna().sum() # checking for missing data"
   ]
  },
  {
   "cell_type": "code",
   "execution_count": 7,
   "id": "cb7e5aa6",
   "metadata": {},
   "outputs": [
    {
     "name": "stdout",
     "output_type": "stream",
     "text": [
      "<class 'pandas.core.frame.DataFrame'>\n",
      "Index: 43 entries, 1634 to 1676\n",
      "Data columns (total 10 columns):\n",
      " #   Column                                                       Non-Null Count  Dtype  \n",
      "---  ------                                                       --------------  -----  \n",
      " 0   Country                                                      43 non-null     object \n",
      " 1   Year                                                         43 non-null     int64  \n",
      " 2   Real GDP growth (annual %)                                   42 non-null     float64\n",
      " 3   Inflation, consumer prices (annual %)                        42 non-null     float64\n",
      " 4   Exports of goods and services (% of GDP)                     43 non-null     float64\n",
      " 5   Imports of goods and services (% of GDP)                     43 non-null     float64\n",
      " 6   Gross capital formation (% of GDP)                           43 non-null     float64\n",
      " 7   Current account balance (Net, BoP, cur. US$)                 43 non-null     float64\n",
      " 8   General government final consumption expenditure (% of GDP)  43 non-null     float64\n",
      " 9   Household final consumption expenditure  (% of GDP)          43 non-null     float64\n",
      "dtypes: float64(8), int64(1), object(1)\n",
      "memory usage: 3.7+ KB\n"
     ]
    }
   ],
   "source": [
    "# lets us focus on the selected conutries\n",
    "\n",
    "selected_country = 'Nigeria'\n",
    "\n",
    "nigeria_dataset = dataset_selected[dataset_selected['Country'] == selected_country]\n",
    "\n",
    "nigeria_dataset.info()"
   ]
  },
  {
   "cell_type": "code",
   "execution_count": 8,
   "id": "679b2983",
   "metadata": {},
   "outputs": [
    {
     "data": {
      "text/plain": [
       "Country                                                        0\n",
       "Year                                                           0\n",
       "Real GDP growth (annual %)                                     1\n",
       "Inflation, consumer prices (annual %)                          1\n",
       "Exports of goods and services (% of GDP)                       0\n",
       "Imports of goods and services (% of GDP)                       0\n",
       "Gross capital formation (% of GDP)                             0\n",
       "Current account balance (Net, BoP, cur. US$)                   0\n",
       "General government final consumption expenditure (% of GDP)    0\n",
       "Household final consumption expenditure  (% of GDP)            0\n",
       "dtype: int64"
      ]
     },
     "execution_count": 8,
     "metadata": {},
     "output_type": "execute_result"
    }
   ],
   "source": [
    "nigeria_dataset.isna().sum() # we observed that there are just two missing data"
   ]
  },
  {
   "cell_type": "code",
   "execution_count": 9,
   "id": "2c070e3e",
   "metadata": {},
   "outputs": [],
   "source": [
    "# we would be dropping the row for the missing data\n",
    "nigeria_dataset = nigeria_dataset.dropna()"
   ]
  },
  {
   "cell_type": "code",
   "execution_count": 10,
   "id": "4c358a95",
   "metadata": {},
   "outputs": [
    {
     "data": {
      "text/plain": [
       "Country                                                        0\n",
       "Year                                                           0\n",
       "Real GDP growth (annual %)                                     0\n",
       "Inflation, consumer prices (annual %)                          0\n",
       "Exports of goods and services (% of GDP)                       0\n",
       "Imports of goods and services (% of GDP)                       0\n",
       "Gross capital formation (% of GDP)                             0\n",
       "Current account balance (Net, BoP, cur. US$)                   0\n",
       "General government final consumption expenditure (% of GDP)    0\n",
       "Household final consumption expenditure  (% of GDP)            0\n",
       "dtype: int64"
      ]
     },
     "execution_count": 10,
     "metadata": {},
     "output_type": "execute_result"
    }
   ],
   "source": [
    "# lets confirm\n",
    "nigeria_dataset.isna().sum() # no missing data"
   ]
  },
  {
   "cell_type": "code",
   "execution_count": 11,
   "id": "433085cc",
   "metadata": {},
   "outputs": [
    {
     "name": "stdout",
     "output_type": "stream",
     "text": [
      "<class 'pandas.core.frame.DataFrame'>\n",
      "Index: 42 entries, 1635 to 1676\n",
      "Data columns (total 10 columns):\n",
      " #   Column                                                       Non-Null Count  Dtype  \n",
      "---  ------                                                       --------------  -----  \n",
      " 0   Country                                                      42 non-null     object \n",
      " 1   Year                                                         42 non-null     int64  \n",
      " 2   Real GDP growth (annual %)                                   42 non-null     float64\n",
      " 3   Inflation, consumer prices (annual %)                        42 non-null     float64\n",
      " 4   Exports of goods and services (% of GDP)                     42 non-null     float64\n",
      " 5   Imports of goods and services (% of GDP)                     42 non-null     float64\n",
      " 6   Gross capital formation (% of GDP)                           42 non-null     float64\n",
      " 7   Current account balance (Net, BoP, cur. US$)                 42 non-null     float64\n",
      " 8   General government final consumption expenditure (% of GDP)  42 non-null     float64\n",
      " 9   Household final consumption expenditure  (% of GDP)          42 non-null     float64\n",
      "dtypes: float64(8), int64(1), object(1)\n",
      "memory usage: 3.6+ KB\n"
     ]
    }
   ],
   "source": [
    "# we can go ahead to check the info\n",
    "nigeria_dataset.info()"
   ]
  },
  {
   "cell_type": "code",
   "execution_count": 12,
   "id": "fba12f4b",
   "metadata": {},
   "outputs": [
    {
     "data": {
      "text/html": [
       "<div>\n",
       "<style scoped>\n",
       "    .dataframe tbody tr th:only-of-type {\n",
       "        vertical-align: middle;\n",
       "    }\n",
       "\n",
       "    .dataframe tbody tr th {\n",
       "        vertical-align: top;\n",
       "    }\n",
       "\n",
       "    .dataframe thead th {\n",
       "        text-align: right;\n",
       "    }\n",
       "</style>\n",
       "<table border=\"1\" class=\"dataframe\">\n",
       "  <thead>\n",
       "    <tr style=\"text-align: right;\">\n",
       "      <th></th>\n",
       "      <th>Country</th>\n",
       "      <th>Year</th>\n",
       "      <th>Real GDP growth (annual %)</th>\n",
       "      <th>Inflation, consumer prices (annual %)</th>\n",
       "      <th>Exports of goods and services (% of GDP)</th>\n",
       "      <th>Imports of goods and services (% of GDP)</th>\n",
       "      <th>Gross capital formation (% of GDP)</th>\n",
       "      <th>Current account balance (Net, BoP, cur. US$)</th>\n",
       "      <th>General government final consumption expenditure (% of GDP)</th>\n",
       "      <th>Household final consumption expenditure  (% of GDP)</th>\n",
       "    </tr>\n",
       "  </thead>\n",
       "  <tbody>\n",
       "    <tr>\n",
       "      <th>1635</th>\n",
       "      <td>Nigeria</td>\n",
       "      <td>1981</td>\n",
       "      <td>-0.90</td>\n",
       "      <td>20.78</td>\n",
       "      <td>7.53</td>\n",
       "      <td>9.52</td>\n",
       "      <td>6.29</td>\n",
       "      <td>-6144.75</td>\n",
       "      <td>4.34</td>\n",
       "      <td>24.65</td>\n",
       "    </tr>\n",
       "    <tr>\n",
       "      <th>1636</th>\n",
       "      <td>Nigeria</td>\n",
       "      <td>1982</td>\n",
       "      <td>-1.72</td>\n",
       "      <td>7.71</td>\n",
       "      <td>4.77</td>\n",
       "      <td>6.90</td>\n",
       "      <td>5.81</td>\n",
       "      <td>-7186.48</td>\n",
       "      <td>3.80</td>\n",
       "      <td>21.33</td>\n",
       "    </tr>\n",
       "  </tbody>\n",
       "</table>\n",
       "</div>"
      ],
      "text/plain": [
       "      Country  Year  Real GDP growth (annual %)  \\\n",
       "1635  Nigeria  1981                       -0.90   \n",
       "1636  Nigeria  1982                       -1.72   \n",
       "\n",
       "      Inflation, consumer prices (annual %)  \\\n",
       "1635                                  20.78   \n",
       "1636                                   7.71   \n",
       "\n",
       "      Exports of goods and services (% of GDP)  \\\n",
       "1635                                      7.53   \n",
       "1636                                      4.77   \n",
       "\n",
       "      Imports of goods and services (% of GDP)  \\\n",
       "1635                                      9.52   \n",
       "1636                                      6.90   \n",
       "\n",
       "      Gross capital formation (% of GDP)  \\\n",
       "1635                                6.29   \n",
       "1636                                5.81   \n",
       "\n",
       "      Current account balance (Net, BoP, cur. US$)  \\\n",
       "1635                                      -6144.75   \n",
       "1636                                      -7186.48   \n",
       "\n",
       "      General government final consumption expenditure (% of GDP)  \\\n",
       "1635                                               4.34             \n",
       "1636                                               3.80             \n",
       "\n",
       "      Household final consumption expenditure  (% of GDP)  \n",
       "1635                                              24.65    \n",
       "1636                                              21.33    "
      ]
     },
     "execution_count": 12,
     "metadata": {},
     "output_type": "execute_result"
    }
   ],
   "source": [
    "nigeria_dataset.head(2) # we have our clean isolated dataset from visualizing"
   ]
  },
  {
   "cell_type": "code",
   "execution_count": 13,
   "id": "092c4904",
   "metadata": {},
   "outputs": [],
   "source": [
    "# Assign variable names for easy calling\n",
    "\n",
    "country = nigeria_dataset['Country']\n",
    "year = nigeria_dataset['Year']\n",
    "gdp_growth = nigeria_dataset['Real GDP growth (annual %)']\n",
    "inflation = nigeria_dataset['Inflation, consumer prices (annual %)']\n",
    "exports_gdp = nigeria_dataset['Exports of goods and services (% of GDP)']\n",
    "imports_gdp = nigeria_dataset['Imports of goods and services (% of GDP)']\n",
    "capital_formation_gdp = nigeria_dataset['Gross capital formation (% of GDP)']\n",
    "current_account_balance = nigeria_dataset['Current account balance (Net, BoP, cur. US$)']\n",
    "govt_consumption_gdp = nigeria_dataset['General government final consumption expenditure (% of GDP)']\n",
    "household_consumption_gdp = nigeria_dataset['Household final consumption expenditure  (% of GDP)']"
   ]
  },
  {
   "cell_type": "code",
   "execution_count": 14,
   "id": "2f7230cc",
   "metadata": {},
   "outputs": [
    {
     "data": {
      "text/html": [
       "<div>\n",
       "<style scoped>\n",
       "    .dataframe tbody tr th:only-of-type {\n",
       "        vertical-align: middle;\n",
       "    }\n",
       "\n",
       "    .dataframe tbody tr th {\n",
       "        vertical-align: top;\n",
       "    }\n",
       "\n",
       "    .dataframe thead th {\n",
       "        text-align: right;\n",
       "    }\n",
       "</style>\n",
       "<table border=\"1\" class=\"dataframe\">\n",
       "  <thead>\n",
       "    <tr style=\"text-align: right;\">\n",
       "      <th></th>\n",
       "      <th>Year</th>\n",
       "      <th>Real GDP growth (annual %)</th>\n",
       "      <th>Inflation, consumer prices (annual %)</th>\n",
       "      <th>Exports of goods and services (% of GDP)</th>\n",
       "      <th>Imports of goods and services (% of GDP)</th>\n",
       "      <th>Gross capital formation (% of GDP)</th>\n",
       "      <th>Current account balance (Net, BoP, cur. US$)</th>\n",
       "      <th>General government final consumption expenditure (% of GDP)</th>\n",
       "      <th>Household final consumption expenditure  (% of GDP)</th>\n",
       "    </tr>\n",
       "  </thead>\n",
       "  <tbody>\n",
       "    <tr>\n",
       "      <th>count</th>\n",
       "      <td>42.000000</td>\n",
       "      <td>42.000000</td>\n",
       "      <td>42.000000</td>\n",
       "      <td>42.000000</td>\n",
       "      <td>42.000000</td>\n",
       "      <td>42.000000</td>\n",
       "      <td>42.000000</td>\n",
       "      <td>42.000000</td>\n",
       "      <td>42.000000</td>\n",
       "    </tr>\n",
       "    <tr>\n",
       "      <th>mean</th>\n",
       "      <td>2001.500000</td>\n",
       "      <td>3.768611</td>\n",
       "      <td>18.842412</td>\n",
       "      <td>18.730708</td>\n",
       "      <td>15.856336</td>\n",
       "      <td>16.089998</td>\n",
       "      <td>3120.835826</td>\n",
       "      <td>5.160572</td>\n",
       "      <td>49.773629</td>\n",
       "    </tr>\n",
       "    <tr>\n",
       "      <th>std</th>\n",
       "      <td>12.267844</td>\n",
       "      <td>4.326914</td>\n",
       "      <td>16.158605</td>\n",
       "      <td>8.253331</td>\n",
       "      <td>5.866353</td>\n",
       "      <td>8.582387</td>\n",
       "      <td>12250.781338</td>\n",
       "      <td>2.267807</td>\n",
       "      <td>22.206977</td>\n",
       "    </tr>\n",
       "    <tr>\n",
       "      <th>min</th>\n",
       "      <td>1981.000000</td>\n",
       "      <td>-6.630000</td>\n",
       "      <td>5.360000</td>\n",
       "      <td>2.690000</td>\n",
       "      <td>3.480000</td>\n",
       "      <td>3.180000</td>\n",
       "      <td>-17016.540000</td>\n",
       "      <td>0.950000</td>\n",
       "      <td>13.730000</td>\n",
       "    </tr>\n",
       "    <tr>\n",
       "      <th>25%</th>\n",
       "      <td>1991.250000</td>\n",
       "      <td>0.983959</td>\n",
       "      <td>8.657347</td>\n",
       "      <td>13.222829</td>\n",
       "      <td>11.992500</td>\n",
       "      <td>8.767500</td>\n",
       "      <td>-3647.737500</td>\n",
       "      <td>4.085000</td>\n",
       "      <td>26.765000</td>\n",
       "    </tr>\n",
       "    <tr>\n",
       "      <th>50%</th>\n",
       "      <td>2001.500000</td>\n",
       "      <td>2.855000</td>\n",
       "      <td>12.178891</td>\n",
       "      <td>18.995000</td>\n",
       "      <td>15.965000</td>\n",
       "      <td>15.407181</td>\n",
       "      <td>-268.270000</td>\n",
       "      <td>5.075000</td>\n",
       "      <td>54.246094</td>\n",
       "    </tr>\n",
       "    <tr>\n",
       "      <th>75%</th>\n",
       "      <td>2011.750000</td>\n",
       "      <td>6.552500</td>\n",
       "      <td>20.310000</td>\n",
       "      <td>24.715000</td>\n",
       "      <td>21.037636</td>\n",
       "      <td>24.162192</td>\n",
       "      <td>9232.380338</td>\n",
       "      <td>6.359009</td>\n",
       "      <td>67.237851</td>\n",
       "    </tr>\n",
       "    <tr>\n",
       "      <th>max</th>\n",
       "      <td>2022.000000</td>\n",
       "      <td>15.330000</td>\n",
       "      <td>72.850000</td>\n",
       "      <td>36.020000</td>\n",
       "      <td>25.590000</td>\n",
       "      <td>34.110000</td>\n",
       "      <td>36517.580000</td>\n",
       "      <td>9.450000</td>\n",
       "      <td>81.561983</td>\n",
       "    </tr>\n",
       "  </tbody>\n",
       "</table>\n",
       "</div>"
      ],
      "text/plain": [
       "              Year  Real GDP growth (annual %)  \\\n",
       "count    42.000000                   42.000000   \n",
       "mean   2001.500000                    3.768611   \n",
       "std      12.267844                    4.326914   \n",
       "min    1981.000000                   -6.630000   \n",
       "25%    1991.250000                    0.983959   \n",
       "50%    2001.500000                    2.855000   \n",
       "75%    2011.750000                    6.552500   \n",
       "max    2022.000000                   15.330000   \n",
       "\n",
       "       Inflation, consumer prices (annual %)  \\\n",
       "count                              42.000000   \n",
       "mean                               18.842412   \n",
       "std                                16.158605   \n",
       "min                                 5.360000   \n",
       "25%                                 8.657347   \n",
       "50%                                12.178891   \n",
       "75%                                20.310000   \n",
       "max                                72.850000   \n",
       "\n",
       "       Exports of goods and services (% of GDP)  \\\n",
       "count                                 42.000000   \n",
       "mean                                  18.730708   \n",
       "std                                    8.253331   \n",
       "min                                    2.690000   \n",
       "25%                                   13.222829   \n",
       "50%                                   18.995000   \n",
       "75%                                   24.715000   \n",
       "max                                   36.020000   \n",
       "\n",
       "       Imports of goods and services (% of GDP)  \\\n",
       "count                                 42.000000   \n",
       "mean                                  15.856336   \n",
       "std                                    5.866353   \n",
       "min                                    3.480000   \n",
       "25%                                   11.992500   \n",
       "50%                                   15.965000   \n",
       "75%                                   21.037636   \n",
       "max                                   25.590000   \n",
       "\n",
       "       Gross capital formation (% of GDP)  \\\n",
       "count                           42.000000   \n",
       "mean                            16.089998   \n",
       "std                              8.582387   \n",
       "min                              3.180000   \n",
       "25%                              8.767500   \n",
       "50%                             15.407181   \n",
       "75%                             24.162192   \n",
       "max                             34.110000   \n",
       "\n",
       "       Current account balance (Net, BoP, cur. US$)  \\\n",
       "count                                     42.000000   \n",
       "mean                                    3120.835826   \n",
       "std                                    12250.781338   \n",
       "min                                   -17016.540000   \n",
       "25%                                    -3647.737500   \n",
       "50%                                     -268.270000   \n",
       "75%                                     9232.380338   \n",
       "max                                    36517.580000   \n",
       "\n",
       "       General government final consumption expenditure (% of GDP)  \\\n",
       "count                                          42.000000             \n",
       "mean                                            5.160572             \n",
       "std                                             2.267807             \n",
       "min                                             0.950000             \n",
       "25%                                             4.085000             \n",
       "50%                                             5.075000             \n",
       "75%                                             6.359009             \n",
       "max                                             9.450000             \n",
       "\n",
       "       Household final consumption expenditure  (% of GDP)  \n",
       "count                                          42.000000    \n",
       "mean                                           49.773629    \n",
       "std                                            22.206977    \n",
       "min                                            13.730000    \n",
       "25%                                            26.765000    \n",
       "50%                                            54.246094    \n",
       "75%                                            67.237851    \n",
       "max                                            81.561983    "
      ]
     },
     "execution_count": 14,
     "metadata": {},
     "output_type": "execute_result"
    }
   ],
   "source": [
    "nigeria_dataset.describe() "
   ]
  },
  {
   "cell_type": "markdown",
   "id": "097bf9c8",
   "metadata": {},
   "source": [
    "# **GDP Growth Trends for Country Nigeria**\n",
    "\n",
    "### We would be plotting Real GDP growth against the Year which would show the trends over the time Preriod\n"
   ]
  },
  {
   "cell_type": "code",
   "execution_count": 53,
   "id": "bd5dd065",
   "metadata": {},
   "outputs": [],
   "source": [
    "year = np.array(year)\n",
    "gdp_growth = np.array(gdp_growth)\n",
    "inflation = np.array(inflation)\n",
    "exports_gdp = np.array(exports_gdp)"
   ]
  },
  {
   "cell_type": "code",
   "execution_count": 16,
   "id": "bb3f63fe",
   "metadata": {},
   "outputs": [
    {
     "data": {
      "image/png": "[encoded data removed]",
      "text/plain": [
       "<Figure size 1080x1080 with 2 Axes>"
      ]
     },
     "metadata": {
      "needs_background": "light"
     },
     "output_type": "display_data"
    }
   ],
   "source": [
    "fig1, axs = plt.subplots(2, 1, figsize=(15, 15))  # Create an empty matplotlib Figure and axs\n",
    "\n",
    "# Subplot 1: Line plot\n",
    "axs[0].plot(year, gdp_growth, color='green', label='Real GDP growth (annual %)', linestyle='-', marker='o')\n",
    "axs[0].set_xlabel('Time (year)')\n",
    "axs[0].set_ylabel('Real GDP growth (annual %)')\n",
    "axs[0].set_title('Line Plot: GDP Growth Trends for Nigeria')\n",
    "axs[0].grid(linestyle='--', alpha=0.6)\n",
    "axs[0].legend()\n",
    "\n",
    "# Subplot 2: Bar chart with x-axis labels\n",
    "axs[1].bar(year, gdp_growth, alpha=1, color='red', label='Real GDP growth (annual %)')\n",
    "axs[1].set_xlabel('Year')\n",
    "axs[1].set_ylabel('Real GDP growth (annual %)')\n",
    "axs[1].set_title('Bar Plot: Bar Chart of GDP Growth Trends for Nigeria')\n",
    "axs[1].grid(linestyle='--', alpha=0.6)\n",
    "axs[1].legend()\n",
    "\n",
    "# Set x-axis tick labels to be the years\n",
    "axs[1].set_xticks(year)  # Set the tick positions to be the years\n",
    "axs[1].set_xticklabels(year, rotation=45)  # Set the tick labels as the years and rotate them 45 degree\n",
    "\n",
    "plt.tight_layout()  # Ensure proper spacing between subplots\n",
    "plt.show()\n"
   ]
  },
  {
   "cell_type": "code",
   "execution_count": 17,
   "id": "944fbd04",
   "metadata": {},
   "outputs": [],
   "source": [
    "# save the fig as a png file\n",
    "#fig1.savefig(\"Real GDP growth (annual %) line and bar graph.png\")"
   ]
  },
  {
   "cell_type": "code",
   "execution_count": 18,
   "id": "6aae4230",
   "metadata": {},
   "outputs": [
    {
     "data": {
      "text/html": [
       "<div>\n",
       "<style scoped>\n",
       "    .dataframe tbody tr th:only-of-type {\n",
       "        vertical-align: middle;\n",
       "    }\n",
       "\n",
       "    .dataframe tbody tr th {\n",
       "        vertical-align: top;\n",
       "    }\n",
       "\n",
       "    .dataframe thead th {\n",
       "        text-align: right;\n",
       "    }\n",
       "</style>\n",
       "<table border=\"1\" class=\"dataframe\">\n",
       "  <thead>\n",
       "    <tr style=\"text-align: right;\">\n",
       "      <th></th>\n",
       "      <th>Country</th>\n",
       "      <th>Year</th>\n",
       "      <th>Real GDP growth (annual %)</th>\n",
       "      <th>Inflation, consumer prices (annual %)</th>\n",
       "      <th>Exports of goods and services (% of GDP)</th>\n",
       "      <th>Imports of goods and services (% of GDP)</th>\n",
       "      <th>Gross capital formation (% of GDP)</th>\n",
       "      <th>Current account balance (Net, BoP, cur. US$)</th>\n",
       "      <th>General government final consumption expenditure (% of GDP)</th>\n",
       "      <th>Household final consumption expenditure  (% of GDP)</th>\n",
       "    </tr>\n",
       "  </thead>\n",
       "  <tbody>\n",
       "    <tr>\n",
       "      <th>1645</th>\n",
       "      <td>Nigeria</td>\n",
       "      <td>1991</td>\n",
       "      <td>0.01</td>\n",
       "      <td>24.1</td>\n",
       "      <td>19.44</td>\n",
       "      <td>16.86</td>\n",
       "      <td>10.16</td>\n",
       "      <td>-336.09</td>\n",
       "      <td>4.93</td>\n",
       "      <td>28.76</td>\n",
       "    </tr>\n",
       "  </tbody>\n",
       "</table>\n",
       "</div>"
      ],
      "text/plain": [
       "      Country  Year  Real GDP growth (annual %)  \\\n",
       "1645  Nigeria  1991                        0.01   \n",
       "\n",
       "      Inflation, consumer prices (annual %)  \\\n",
       "1645                                   24.1   \n",
       "\n",
       "      Exports of goods and services (% of GDP)  \\\n",
       "1645                                     19.44   \n",
       "\n",
       "      Imports of goods and services (% of GDP)  \\\n",
       "1645                                     16.86   \n",
       "\n",
       "      Gross capital formation (% of GDP)  \\\n",
       "1645                               10.16   \n",
       "\n",
       "      Current account balance (Net, BoP, cur. US$)  \\\n",
       "1645                                       -336.09   \n",
       "\n",
       "      General government final consumption expenditure (% of GDP)  \\\n",
       "1645                                               4.93             \n",
       "\n",
       "      Household final consumption expenditure  (% of GDP)  \n",
       "1645                                              28.76    "
      ]
     },
     "execution_count": 18,
     "metadata": {},
     "output_type": "execute_result"
    }
   ],
   "source": [
    "nigeria_dataset[nigeria_dataset['Year'] == 1991]"
   ]
  },
  {
   "cell_type": "code",
   "execution_count": 19,
   "id": "4bbeefbd",
   "metadata": {},
   "outputs": [
    {
     "data": {
      "text/html": [
       "<div>\n",
       "<style scoped>\n",
       "    .dataframe tbody tr th:only-of-type {\n",
       "        vertical-align: middle;\n",
       "    }\n",
       "\n",
       "    .dataframe tbody tr th {\n",
       "        vertical-align: top;\n",
       "    }\n",
       "\n",
       "    .dataframe thead th {\n",
       "        text-align: right;\n",
       "    }\n",
       "</style>\n",
       "<table border=\"1\" class=\"dataframe\">\n",
       "  <thead>\n",
       "    <tr style=\"text-align: right;\">\n",
       "      <th></th>\n",
       "      <th>Country</th>\n",
       "      <th>Year</th>\n",
       "      <th>Real GDP growth (annual %)</th>\n",
       "      <th>Inflation, consumer prices (annual %)</th>\n",
       "      <th>Exports of goods and services (% of GDP)</th>\n",
       "      <th>Imports of goods and services (% of GDP)</th>\n",
       "      <th>Gross capital formation (% of GDP)</th>\n",
       "      <th>Current account balance (Net, BoP, cur. US$)</th>\n",
       "      <th>General government final consumption expenditure (% of GDP)</th>\n",
       "      <th>Household final consumption expenditure  (% of GDP)</th>\n",
       "    </tr>\n",
       "  </thead>\n",
       "  <tbody>\n",
       "    <tr>\n",
       "      <th>1656</th>\n",
       "      <td>Nigeria</td>\n",
       "      <td>2002</td>\n",
       "      <td>15.33</td>\n",
       "      <td>12.9</td>\n",
       "      <td>23.24</td>\n",
       "      <td>16.8</td>\n",
       "      <td>27.58</td>\n",
       "      <td>-7699.4</td>\n",
       "      <td>1.34</td>\n",
       "      <td>64.22</td>\n",
       "    </tr>\n",
       "  </tbody>\n",
       "</table>\n",
       "</div>"
      ],
      "text/plain": [
       "      Country  Year  Real GDP growth (annual %)  \\\n",
       "1656  Nigeria  2002                       15.33   \n",
       "\n",
       "      Inflation, consumer prices (annual %)  \\\n",
       "1656                                   12.9   \n",
       "\n",
       "      Exports of goods and services (% of GDP)  \\\n",
       "1656                                     23.24   \n",
       "\n",
       "      Imports of goods and services (% of GDP)  \\\n",
       "1656                                      16.8   \n",
       "\n",
       "      Gross capital formation (% of GDP)  \\\n",
       "1656                               27.58   \n",
       "\n",
       "      Current account balance (Net, BoP, cur. US$)  \\\n",
       "1656                                       -7699.4   \n",
       "\n",
       "      General government final consumption expenditure (% of GDP)  \\\n",
       "1656                                               1.34             \n",
       "\n",
       "      Household final consumption expenditure  (% of GDP)  \n",
       "1656                                              64.22    "
      ]
     },
     "execution_count": 19,
     "metadata": {},
     "output_type": "execute_result"
    }
   ],
   "source": [
    "# analysis on the highest Real GDP growth (annual %) \n",
    "\n",
    "max_real_gdp_growth = nigeria_dataset['Real GDP growth (annual %)'].max()\n",
    "\n",
    "# lets look at the year where the 'Real GDP growth (annual %)' was at the highest\n",
    "\n",
    "nigeria_dataset.loc[nigeria_dataset['Real GDP growth (annual %)'] == max_real_gdp_growth]"
   ]
  },
  {
   "cell_type": "code",
   "execution_count": 20,
   "id": "4bd33adc",
   "metadata": {},
   "outputs": [
    {
     "data": {
      "text/html": [
       "<div>\n",
       "<style scoped>\n",
       "    .dataframe tbody tr th:only-of-type {\n",
       "        vertical-align: middle;\n",
       "    }\n",
       "\n",
       "    .dataframe tbody tr th {\n",
       "        vertical-align: top;\n",
       "    }\n",
       "\n",
       "    .dataframe thead th {\n",
       "        text-align: right;\n",
       "    }\n",
       "</style>\n",
       "<table border=\"1\" class=\"dataframe\">\n",
       "  <thead>\n",
       "    <tr style=\"text-align: right;\">\n",
       "      <th></th>\n",
       "      <th>Country</th>\n",
       "      <th>Year</th>\n",
       "      <th>Real GDP growth (annual %)</th>\n",
       "      <th>Inflation, consumer prices (annual %)</th>\n",
       "      <th>Exports of goods and services (% of GDP)</th>\n",
       "      <th>Imports of goods and services (% of GDP)</th>\n",
       "      <th>Gross capital formation (% of GDP)</th>\n",
       "      <th>Current account balance (Net, BoP, cur. US$)</th>\n",
       "      <th>General government final consumption expenditure (% of GDP)</th>\n",
       "      <th>Household final consumption expenditure  (% of GDP)</th>\n",
       "    </tr>\n",
       "  </thead>\n",
       "  <tbody>\n",
       "    <tr>\n",
       "      <th>1637</th>\n",
       "      <td>Nigeria</td>\n",
       "      <td>1983</td>\n",
       "      <td>-6.63</td>\n",
       "      <td>23.2</td>\n",
       "      <td>2.69</td>\n",
       "      <td>3.48</td>\n",
       "      <td>3.63</td>\n",
       "      <td>-5133.26</td>\n",
       "      <td>2.6</td>\n",
       "      <td>14.38</td>\n",
       "    </tr>\n",
       "  </tbody>\n",
       "</table>\n",
       "</div>"
      ],
      "text/plain": [
       "      Country  Year  Real GDP growth (annual %)  \\\n",
       "1637  Nigeria  1983                       -6.63   \n",
       "\n",
       "      Inflation, consumer prices (annual %)  \\\n",
       "1637                                   23.2   \n",
       "\n",
       "      Exports of goods and services (% of GDP)  \\\n",
       "1637                                      2.69   \n",
       "\n",
       "      Imports of goods and services (% of GDP)  \\\n",
       "1637                                      3.48   \n",
       "\n",
       "      Gross capital formation (% of GDP)  \\\n",
       "1637                                3.63   \n",
       "\n",
       "      Current account balance (Net, BoP, cur. US$)  \\\n",
       "1637                                      -5133.26   \n",
       "\n",
       "      General government final consumption expenditure (% of GDP)  \\\n",
       "1637                                                2.6             \n",
       "\n",
       "      Household final consumption expenditure  (% of GDP)  \n",
       "1637                                              14.38    "
      ]
     },
     "execution_count": 20,
     "metadata": {},
     "output_type": "execute_result"
    }
   ],
   "source": [
    "# analysis on the lowest Real GDP growth (annual %) \n",
    "\n",
    "min_real_gdp_growth = nigeria_dataset['Real GDP growth (annual %)'].min()\n",
    "\n",
    "# lets look at the year where the 'Real GDP growth (annual %)' was at the lowest\n",
    "\n",
    "nigeria_dataset.loc[nigeria_dataset['Real GDP growth (annual %)'] == min_real_gdp_growth]"
   ]
  },
  {
   "cell_type": "code",
   "execution_count": 21,
   "id": "8da65da3",
   "metadata": {},
   "outputs": [
    {
     "data": {
      "text/html": [
       "<div>\n",
       "<style scoped>\n",
       "    .dataframe tbody tr th:only-of-type {\n",
       "        vertical-align: middle;\n",
       "    }\n",
       "\n",
       "    .dataframe tbody tr th {\n",
       "        vertical-align: top;\n",
       "    }\n",
       "\n",
       "    .dataframe thead th {\n",
       "        text-align: right;\n",
       "    }\n",
       "</style>\n",
       "<table border=\"1\" class=\"dataframe\">\n",
       "  <thead>\n",
       "    <tr style=\"text-align: right;\">\n",
       "      <th></th>\n",
       "      <th>Year</th>\n",
       "      <th>Real GDP growth (annual %)</th>\n",
       "    </tr>\n",
       "  </thead>\n",
       "  <tbody>\n",
       "    <tr>\n",
       "      <th>1635</th>\n",
       "      <td>1981</td>\n",
       "      <td>-0.900000</td>\n",
       "    </tr>\n",
       "    <tr>\n",
       "      <th>1636</th>\n",
       "      <td>1982</td>\n",
       "      <td>-1.720000</td>\n",
       "    </tr>\n",
       "    <tr>\n",
       "      <th>1637</th>\n",
       "      <td>1983</td>\n",
       "      <td>-6.630000</td>\n",
       "    </tr>\n",
       "    <tr>\n",
       "      <th>1638</th>\n",
       "      <td>1984</td>\n",
       "      <td>-1.360000</td>\n",
       "    </tr>\n",
       "    <tr>\n",
       "      <th>1641</th>\n",
       "      <td>1987</td>\n",
       "      <td>-0.690000</td>\n",
       "    </tr>\n",
       "    <tr>\n",
       "      <th>1670</th>\n",
       "      <td>2016</td>\n",
       "      <td>-1.583065</td>\n",
       "    </tr>\n",
       "    <tr>\n",
       "      <th>1674</th>\n",
       "      <td>2020</td>\n",
       "      <td>-2.955950</td>\n",
       "    </tr>\n",
       "  </tbody>\n",
       "</table>\n",
       "</div>"
      ],
      "text/plain": [
       "      Year  Real GDP growth (annual %)\n",
       "1635  1981                   -0.900000\n",
       "1636  1982                   -1.720000\n",
       "1637  1983                   -6.630000\n",
       "1638  1984                   -1.360000\n",
       "1641  1987                   -0.690000\n",
       "1670  2016                   -1.583065\n",
       "1674  2020                   -2.955950"
      ]
     },
     "execution_count": 21,
     "metadata": {},
     "output_type": "execute_result"
    }
   ],
   "source": [
    "# checking for years with negative Real GDP growth (annual %)\n",
    "\n",
    "nigeria_dataset.loc[nigeria_dataset['Real GDP growth (annual %)'] < 0, ['Year', 'Real GDP growth (annual %)']]"
   ]
  },
  {
   "cell_type": "markdown",
   "id": "96c8cbfd",
   "metadata": {},
   "source": [
    "**GDP Growth Trends for Nigeria:**\n",
    "\n",
    "1. **Overall trends in GDP growth for Nigeria over the years?**\n",
    "\n",
    "   - The economic trend in Nigeria, based on the real GDP growth data plot, has shown fluctuations and variations over the years. \n",
    "   - This shows that from the year __2000__ to __2015__ has shown positive increase in the Economy while from __2016 above__ has shown a struggling economy."
   ]
  },
  {
   "cell_type": "markdown",
   "id": "c38b9317",
   "metadata": {},
   "source": [
    "2. **Significant fluctuations or periods of economic recession in Nigeria's GDP growth data?**\n",
    "\n",
    "   - The graph has shown economic fluctuations all through the years except for year `1991` which has shown a minimal positive Real GDP change of `0.01%  `\n",
    "   - Years of Economic recession are as shown below: \n"
   ]
  },
  {
   "cell_type": "code",
   "execution_count": 22,
   "id": "bdb8479b",
   "metadata": {},
   "outputs": [
    {
     "data": {
      "text/html": [
       "<div>\n",
       "<style scoped>\n",
       "    .dataframe tbody tr th:only-of-type {\n",
       "        vertical-align: middle;\n",
       "    }\n",
       "\n",
       "    .dataframe tbody tr th {\n",
       "        vertical-align: top;\n",
       "    }\n",
       "\n",
       "    .dataframe thead th {\n",
       "        text-align: right;\n",
       "    }\n",
       "</style>\n",
       "<table border=\"1\" class=\"dataframe\">\n",
       "  <thead>\n",
       "    <tr style=\"text-align: right;\">\n",
       "      <th></th>\n",
       "      <th>Year</th>\n",
       "      <th>Real GDP growth (annual %)</th>\n",
       "    </tr>\n",
       "  </thead>\n",
       "  <tbody>\n",
       "    <tr>\n",
       "      <th>1635</th>\n",
       "      <td>1981</td>\n",
       "      <td>-0.900000</td>\n",
       "    </tr>\n",
       "    <tr>\n",
       "      <th>1636</th>\n",
       "      <td>1982</td>\n",
       "      <td>-1.720000</td>\n",
       "    </tr>\n",
       "    <tr>\n",
       "      <th>1637</th>\n",
       "      <td>1983</td>\n",
       "      <td>-6.630000</td>\n",
       "    </tr>\n",
       "    <tr>\n",
       "      <th>1638</th>\n",
       "      <td>1984</td>\n",
       "      <td>-1.360000</td>\n",
       "    </tr>\n",
       "    <tr>\n",
       "      <th>1641</th>\n",
       "      <td>1987</td>\n",
       "      <td>-0.690000</td>\n",
       "    </tr>\n",
       "    <tr>\n",
       "      <th>1670</th>\n",
       "      <td>2016</td>\n",
       "      <td>-1.583065</td>\n",
       "    </tr>\n",
       "    <tr>\n",
       "      <th>1674</th>\n",
       "      <td>2020</td>\n",
       "      <td>-2.955950</td>\n",
       "    </tr>\n",
       "  </tbody>\n",
       "</table>\n",
       "</div>"
      ],
      "text/plain": [
       "      Year  Real GDP growth (annual %)\n",
       "1635  1981                   -0.900000\n",
       "1636  1982                   -1.720000\n",
       "1637  1983                   -6.630000\n",
       "1638  1984                   -1.360000\n",
       "1641  1987                   -0.690000\n",
       "1670  2016                   -1.583065\n",
       "1674  2020                   -2.955950"
      ]
     },
     "execution_count": 22,
     "metadata": {},
     "output_type": "execute_result"
    }
   ],
   "source": [
    "# years of economic recession\n",
    "\n",
    "nigeria_dataset.loc[nigeria_dataset['Real GDP growth (annual %)'] < 0, ['Year', 'Real GDP growth (annual %)']]"
   ]
  },
  {
   "cell_type": "markdown",
   "id": "ca93a917",
   "metadata": {},
   "source": [
    "3. **Specific years that led to significant changes in Nigeria's GDP growth?**\n",
    "   - Find below are the years with significant Real GDP growth (annual %) below:\n",
    "   - Most significant changes are \n",
    "   ```\n",
    "      YEAR   REAL GDP GROWTH (ANNUAL %)\n",
    "      1985 : 11.33%\n",
    "      1990 : 11.36%\n",
    "      2002 : 15.33%\n",
    "   ```\n",
    "   \n",
    "   - I chose the 75th percentile as the criteria for significant improvement, better research would should be carried out by experts"
   ]
  },
  {
   "cell_type": "code",
   "execution_count": 23,
   "id": "0044ede1",
   "metadata": {},
   "outputs": [],
   "source": [
    "# Calculate the 75th percentile for a DataFrame column\n",
    "seventy_fifth_percentile = nigeria_dataset['Real GDP growth (annual %)'].quantile(0.75)\n"
   ]
  },
  {
   "cell_type": "code",
   "execution_count": 24,
   "id": "e4530cda",
   "metadata": {},
   "outputs": [
    {
     "data": {
      "text/html": [
       "<div>\n",
       "<style scoped>\n",
       "    .dataframe tbody tr th:only-of-type {\n",
       "        vertical-align: middle;\n",
       "    }\n",
       "\n",
       "    .dataframe tbody tr th {\n",
       "        vertical-align: top;\n",
       "    }\n",
       "\n",
       "    .dataframe thead th {\n",
       "        text-align: right;\n",
       "    }\n",
       "</style>\n",
       "<table border=\"1\" class=\"dataframe\">\n",
       "  <thead>\n",
       "    <tr style=\"text-align: right;\">\n",
       "      <th></th>\n",
       "      <th>Year</th>\n",
       "      <th>Real GDP growth (annual %)</th>\n",
       "    </tr>\n",
       "  </thead>\n",
       "  <tbody>\n",
       "    <tr>\n",
       "      <th>1639</th>\n",
       "      <td>1985</td>\n",
       "      <td>11.33</td>\n",
       "    </tr>\n",
       "    <tr>\n",
       "      <th>1642</th>\n",
       "      <td>1988</td>\n",
       "      <td>7.58</td>\n",
       "    </tr>\n",
       "    <tr>\n",
       "      <th>1643</th>\n",
       "      <td>1989</td>\n",
       "      <td>7.15</td>\n",
       "    </tr>\n",
       "    <tr>\n",
       "      <th>1644</th>\n",
       "      <td>1990</td>\n",
       "      <td>11.36</td>\n",
       "    </tr>\n",
       "    <tr>\n",
       "      <th>1656</th>\n",
       "      <td>2002</td>\n",
       "      <td>15.33</td>\n",
       "    </tr>\n",
       "    <tr>\n",
       "      <th>1657</th>\n",
       "      <td>2003</td>\n",
       "      <td>7.35</td>\n",
       "    </tr>\n",
       "    <tr>\n",
       "      <th>1658</th>\n",
       "      <td>2004</td>\n",
       "      <td>9.25</td>\n",
       "    </tr>\n",
       "    <tr>\n",
       "      <th>1661</th>\n",
       "      <td>2007</td>\n",
       "      <td>6.59</td>\n",
       "    </tr>\n",
       "    <tr>\n",
       "      <th>1662</th>\n",
       "      <td>2008</td>\n",
       "      <td>6.76</td>\n",
       "    </tr>\n",
       "    <tr>\n",
       "      <th>1663</th>\n",
       "      <td>2009</td>\n",
       "      <td>8.04</td>\n",
       "    </tr>\n",
       "    <tr>\n",
       "      <th>1664</th>\n",
       "      <td>2010</td>\n",
       "      <td>9.70</td>\n",
       "    </tr>\n",
       "  </tbody>\n",
       "</table>\n",
       "</div>"
      ],
      "text/plain": [
       "      Year  Real GDP growth (annual %)\n",
       "1639  1985                       11.33\n",
       "1642  1988                        7.58\n",
       "1643  1989                        7.15\n",
       "1644  1990                       11.36\n",
       "1656  2002                       15.33\n",
       "1657  2003                        7.35\n",
       "1658  2004                        9.25\n",
       "1661  2007                        6.59\n",
       "1662  2008                        6.76\n",
       "1663  2009                        8.04\n",
       "1664  2010                        9.70"
      ]
     },
     "execution_count": 24,
     "metadata": {},
     "output_type": "execute_result"
    }
   ],
   "source": [
    "nigeria_dataset.loc[nigeria_dataset['Real GDP growth (annual %)'] > seventy_fifth_percentile, ['Year', 'Real GDP growth (annual %)']]"
   ]
  },
  {
   "cell_type": "code",
   "execution_count": 25,
   "id": "499f23c5",
   "metadata": {},
   "outputs": [
    {
     "data": {
      "image/png": "[encoded data removed]",
      "text/plain": [
       "<Figure size 1080x1080 with 2 Axes>"
      ]
     },
     "metadata": {
      "needs_background": "light"
     },
     "output_type": "display_data"
    }
   ],
   "source": [
    "fig2, axs = plt.subplots(2, 1, figsize=(15, 15))  # Create an empty matplotlib Figure and axs\n",
    "\n",
    "# Subplot 1: Line plot\n",
    "axs[0].plot(year, inflation, color='green', label='Inflation, Consumer Prices (annual %)', linestyle='-', marker='o')\n",
    "axs[0].set_xlabel('Time (year)')\n",
    "axs[0].set_ylabel('Inflation, Consumer Prices (annual %)')\n",
    "axs[0].set_title('Line Plot: Inflation Trends for Nigeria')\n",
    "axs[0].grid(linestyle='--', alpha=0.9)\n",
    "axs[0].legend()\n",
    "\n",
    "# Subplot 2: Bar chart with x-axis labels\n",
    "axs[1].bar(year, inflation, alpha=0.9, color='red', label='Inflation, Consumer Prices (annual %)')\n",
    "axs[1].set_xlabel('Year')\n",
    "axs[1].set_ylabel('Inflation, Consumer Prices (annual %)')\n",
    "axs[1].set_title('Bar Plot: Bar Chart of Inflation Trends for Nigeria')\n",
    "axs[1].grid(linestyle='--', alpha=0.3)\n",
    "axs[1].legend()\n",
    "\n",
    "# Set x-axis tick labels to be the years\n",
    "axs[1].set_xticks(year)  # Set the tick positions to be the years\n",
    "axs[1].set_xticklabels(year, rotation=45)  # Set the tick labels as the years and rotate them 45 degree\n",
    "\n",
    "plt.tight_layout()  # Ensure proper spacing between subplots\n",
    "plt.show()\n"
   ]
  },
  {
   "cell_type": "code",
   "execution_count": 26,
   "id": "09c4215a",
   "metadata": {},
   "outputs": [],
   "source": [
    "#fig2.savefig('Inflation, consumer prices (annual %) line and bar graph.png')"
   ]
  },
  {
   "cell_type": "markdown",
   "id": "6a8baac1",
   "metadata": {},
   "source": [
    "1. **What is the overall trend in inflation for Nigeria over time?**\n",
    "\n",
    "    - Nigeria struggle with controling Inflation from 1981 to 1996 and from 1997 to date, The country as shown a better monitoring and control of inflation.  The overall trend shows that the country has a better grip on inflation"
   ]
  },
  {
   "cell_type": "markdown",
   "id": "d446fde1",
   "metadata": {},
   "source": [
    "1. **Are there any periods of unusually high or low inflation rates in Nigeria's history?**\n",
    "\n",
    "    - Year 1995 shows the highest Inflation recorded in the Country of about __72.85%__ and a minimal __GDP Growth__ of __2.15%__.\n",
    "    - Year 1986 recorded the lowest Inflation rate in the Country of about __5.36%__ and a __GDP Growth__ of __1.89%__"
   ]
  },
  {
   "cell_type": "code",
   "execution_count": 27,
   "id": "fdec734d",
   "metadata": {},
   "outputs": [
    {
     "data": {
      "text/html": [
       "<div>\n",
       "<style scoped>\n",
       "    .dataframe tbody tr th:only-of-type {\n",
       "        vertical-align: middle;\n",
       "    }\n",
       "\n",
       "    .dataframe tbody tr th {\n",
       "        vertical-align: top;\n",
       "    }\n",
       "\n",
       "    .dataframe thead th {\n",
       "        text-align: right;\n",
       "    }\n",
       "</style>\n",
       "<table border=\"1\" class=\"dataframe\">\n",
       "  <thead>\n",
       "    <tr style=\"text-align: right;\">\n",
       "      <th></th>\n",
       "      <th>Country</th>\n",
       "      <th>Year</th>\n",
       "      <th>Real GDP growth (annual %)</th>\n",
       "      <th>Inflation, consumer prices (annual %)</th>\n",
       "      <th>Exports of goods and services (% of GDP)</th>\n",
       "      <th>Imports of goods and services (% of GDP)</th>\n",
       "      <th>Gross capital formation (% of GDP)</th>\n",
       "      <th>Current account balance (Net, BoP, cur. US$)</th>\n",
       "      <th>General government final consumption expenditure (% of GDP)</th>\n",
       "      <th>Household final consumption expenditure  (% of GDP)</th>\n",
       "    </tr>\n",
       "  </thead>\n",
       "  <tbody>\n",
       "    <tr>\n",
       "      <th>1649</th>\n",
       "      <td>Nigeria</td>\n",
       "      <td>1995</td>\n",
       "      <td>2.15</td>\n",
       "      <td>72.85</td>\n",
       "      <td>24.96</td>\n",
       "      <td>24.07</td>\n",
       "      <td>8.47</td>\n",
       "      <td>-1570.81</td>\n",
       "      <td>4.7</td>\n",
       "      <td>41.84</td>\n",
       "    </tr>\n",
       "  </tbody>\n",
       "</table>\n",
       "</div>"
      ],
      "text/plain": [
       "      Country  Year  Real GDP growth (annual %)  \\\n",
       "1649  Nigeria  1995                        2.15   \n",
       "\n",
       "      Inflation, consumer prices (annual %)  \\\n",
       "1649                                  72.85   \n",
       "\n",
       "      Exports of goods and services (% of GDP)  \\\n",
       "1649                                     24.96   \n",
       "\n",
       "      Imports of goods and services (% of GDP)  \\\n",
       "1649                                     24.07   \n",
       "\n",
       "      Gross capital formation (% of GDP)  \\\n",
       "1649                                8.47   \n",
       "\n",
       "      Current account balance (Net, BoP, cur. US$)  \\\n",
       "1649                                      -1570.81   \n",
       "\n",
       "      General government final consumption expenditure (% of GDP)  \\\n",
       "1649                                                4.7             \n",
       "\n",
       "      Household final consumption expenditure  (% of GDP)  \n",
       "1649                                              41.84    "
      ]
     },
     "execution_count": 27,
     "metadata": {},
     "output_type": "execute_result"
    }
   ],
   "source": [
    "# analysis on the highest inflation \n",
    "\n",
    "max_inflation = nigeria_dataset['Inflation, consumer prices (annual %)'].max()\n",
    "\n",
    "# lets look at the year where the inflation was at the highest\n",
    "\n",
    "nigeria_dataset.loc[nigeria_dataset['Inflation, consumer prices (annual %)'] == max_inflation]"
   ]
  },
  {
   "cell_type": "code",
   "execution_count": 28,
   "id": "cef51b83",
   "metadata": {},
   "outputs": [
    {
     "data": {
      "text/html": [
       "<div>\n",
       "<style scoped>\n",
       "    .dataframe tbody tr th:only-of-type {\n",
       "        vertical-align: middle;\n",
       "    }\n",
       "\n",
       "    .dataframe tbody tr th {\n",
       "        vertical-align: top;\n",
       "    }\n",
       "\n",
       "    .dataframe thead th {\n",
       "        text-align: right;\n",
       "    }\n",
       "</style>\n",
       "<table border=\"1\" class=\"dataframe\">\n",
       "  <thead>\n",
       "    <tr style=\"text-align: right;\">\n",
       "      <th></th>\n",
       "      <th>Country</th>\n",
       "      <th>Year</th>\n",
       "      <th>Real GDP growth (annual %)</th>\n",
       "      <th>Inflation, consumer prices (annual %)</th>\n",
       "      <th>Exports of goods and services (% of GDP)</th>\n",
       "      <th>Imports of goods and services (% of GDP)</th>\n",
       "      <th>Gross capital formation (% of GDP)</th>\n",
       "      <th>Current account balance (Net, BoP, cur. US$)</th>\n",
       "      <th>General government final consumption expenditure (% of GDP)</th>\n",
       "      <th>Household final consumption expenditure  (% of GDP)</th>\n",
       "    </tr>\n",
       "  </thead>\n",
       "  <tbody>\n",
       "    <tr>\n",
       "      <th>1640</th>\n",
       "      <td>Nigeria</td>\n",
       "      <td>1986</td>\n",
       "      <td>1.89</td>\n",
       "      <td>5.36</td>\n",
       "      <td>7.87</td>\n",
       "      <td>9.44</td>\n",
       "      <td>5.62</td>\n",
       "      <td>-3854.59</td>\n",
       "      <td>2.33</td>\n",
       "      <td>19.02</td>\n",
       "    </tr>\n",
       "  </tbody>\n",
       "</table>\n",
       "</div>"
      ],
      "text/plain": [
       "      Country  Year  Real GDP growth (annual %)  \\\n",
       "1640  Nigeria  1986                        1.89   \n",
       "\n",
       "      Inflation, consumer prices (annual %)  \\\n",
       "1640                                   5.36   \n",
       "\n",
       "      Exports of goods and services (% of GDP)  \\\n",
       "1640                                      7.87   \n",
       "\n",
       "      Imports of goods and services (% of GDP)  \\\n",
       "1640                                      9.44   \n",
       "\n",
       "      Gross capital formation (% of GDP)  \\\n",
       "1640                                5.62   \n",
       "\n",
       "      Current account balance (Net, BoP, cur. US$)  \\\n",
       "1640                                      -3854.59   \n",
       "\n",
       "      General government final consumption expenditure (% of GDP)  \\\n",
       "1640                                               2.33             \n",
       "\n",
       "      Household final consumption expenditure  (% of GDP)  \n",
       "1640                                              19.02    "
      ]
     },
     "execution_count": 28,
     "metadata": {},
     "output_type": "execute_result"
    }
   ],
   "source": [
    "# analysis on the lowest inflation \n",
    "\n",
    "min_inflation = nigeria_dataset['Inflation, consumer prices (annual %)'].min()\n",
    "\n",
    "# lets look at the year where the inflation was at the lowest\n",
    "\n",
    "nigeria_dataset.loc[nigeria_dataset['Inflation, consumer prices (annual %)'] == min_inflation]"
   ]
  },
  {
   "cell_type": "code",
   "execution_count": 29,
   "id": "41300a85",
   "metadata": {},
   "outputs": [
    {
     "data": {
      "text/html": [
       "<div>\n",
       "<style scoped>\n",
       "    .dataframe tbody tr th:only-of-type {\n",
       "        vertical-align: middle;\n",
       "    }\n",
       "\n",
       "    .dataframe tbody tr th {\n",
       "        vertical-align: top;\n",
       "    }\n",
       "\n",
       "    .dataframe thead th {\n",
       "        text-align: right;\n",
       "    }\n",
       "</style>\n",
       "<table border=\"1\" class=\"dataframe\">\n",
       "  <thead>\n",
       "    <tr style=\"text-align: right;\">\n",
       "      <th></th>\n",
       "      <th>Country</th>\n",
       "      <th>Year</th>\n",
       "      <th>Real GDP growth (annual %)</th>\n",
       "      <th>Inflation, consumer prices (annual %)</th>\n",
       "      <th>Exports of goods and services (% of GDP)</th>\n",
       "      <th>Imports of goods and services (% of GDP)</th>\n",
       "      <th>Gross capital formation (% of GDP)</th>\n",
       "      <th>Current account balance (Net, BoP, cur. US$)</th>\n",
       "      <th>General government final consumption expenditure (% of GDP)</th>\n",
       "      <th>Household final consumption expenditure  (% of GDP)</th>\n",
       "    </tr>\n",
       "  </thead>\n",
       "  <tbody>\n",
       "  </tbody>\n",
       "</table>\n",
       "</div>"
      ],
      "text/plain": [
       "Empty DataFrame\n",
       "Columns: [Country, Year, Real GDP growth (annual %), Inflation, consumer prices (annual %), Exports of goods and services (% of GDP), Imports of goods and services (% of GDP), Gross capital formation (% of GDP), Current account balance (Net, BoP, cur. US$), General government final consumption expenditure (% of GDP), Household final consumption expenditure  (% of GDP)]\n",
       "Index: []"
      ]
     },
     "execution_count": 29,
     "metadata": {},
     "output_type": "execute_result"
    }
   ],
   "source": [
    "# we would be checking for period with deflation\n",
    "nigeria_dataset.loc[nigeria_dataset['Inflation, consumer prices (annual %)'] < 0]"
   ]
  },
  {
   "cell_type": "markdown",
   "id": "c15e6c7d",
   "metadata": {},
   "source": [
    "- There has never any recorded period of deflation"
   ]
  },
  {
   "cell_type": "markdown",
   "id": "0fca0312",
   "metadata": {},
   "source": [
    "- Inflation refers to the general increase in the prices of goods and services over time, resulting in a decrease in the purchasing power of a currency.\n",
    "\n",
    "- Deflation, on the other hand, is the general decrease in the prices of goods and services, leading to an increase in the purchasing power of a currency. \n",
    "\n",
    "Both inflation and deflation can have significant impacts on an economy, and central banks often aim to maintain price stability to avoid extreme fluctuations in either direction."
   ]
  },
  {
   "cell_type": "code",
   "execution_count": 32,
   "id": "62f0a99a",
   "metadata": {},
   "outputs": [
    {
     "data": {
      "image/png": "[encoded data removed]",
      "text/plain": [
       "<Figure size 936x936 with 1 Axes>"
      ]
     },
     "metadata": {
      "needs_background": "light"
     },
     "output_type": "display_data"
    }
   ],
   "source": [
    "# Create the scatter plot\n",
    "fig, ax = plt.subplots(figsize=(13, 13))\n",
    "\n",
    "ax.scatter(gdp_growth, inflation, color='green', label='GDP Growth vs Inflation', marker='o')\n",
    "\n",
    "ax.set_xlabel('Real GDP Growth (annual %)')\n",
    "ax.set_ylabel('Inflation, Consumer Prices (annual %)')\n",
    "ax.set_title('Scatter Plot: Real GDP Growth vs Inflation Trends in Nigeria', loc='left')\n",
    "ax.grid(True)\n",
    "\n",
    "ax.legend()\n",
    "\n",
    "# Calculate the regression line\n",
    "regression_model = np.polyfit(gdp_growth, inflation, 1)\n",
    "regression_line = np.poly1d(regression_model)\n",
    "\n",
    "# Plot the regression line\n",
    "x_range = np.linspace(min(gdp_growth), max(gdp_growth)+5, 100)  # Create a range of x values\n",
    "ax.plot(x_range, regression_line(x_range), color='red', linestyle='--', label='Regression Line')\n",
    "\n",
    "plt.legend()\n",
    "\n",
    "plt.show()\n"
   ]
  },
  {
   "cell_type": "code",
   "execution_count": 33,
   "id": "fb7db6f8",
   "metadata": {},
   "outputs": [],
   "source": [
    "#fig.savefig(\"GDP Growth vs Inflation with regression line.png\")"
   ]
  },
  {
   "cell_type": "markdown",
   "id": "71b1b85d",
   "metadata": {},
   "source": [
    "1. **What is the overall trend in inflation for Nigeria with GDP Growth change?**\n",
    "\n",
    "    - As GDP growth increases, inflation tends to decrease slightly, and vice versa. However, there is no strong linear relationship between GDP growth and inflation in Nigeria based on this data.\n",
    "\n",
    "    - The data points show some variability, but there is no clear and strong liner trend. This means that changes in GDP growth do not consistently correspond to changes in inflation in a predictable way, at least not in a linear fashion. Other factors and economic dynamics may be influencing both GDP growth and inflation in Nigeria. We could further compare or analyse it further with Trade Finance such as Import and Export"
   ]
  },
  {
   "cell_type": "markdown",
   "id": "325b2180",
   "metadata": {},
   "source": [
    "2. **Is there any correlation between GDP growth and inflation in Nigeria?**\n",
    "\n",
    "A correlation coefficient of __-0.177__ between GDP growth and inflation indicates a __weak negative correlation__ between these two variables.\n",
    "\n",
    "- The negative sign (-) indicates that as GDP growth increases, inflation tends to decrease, and vice versa.\n",
    "\n",
    "- The magnitude of -0.177 suggests that the relationship between GDP growth and inflation is weak. In other words, changes in GDP growth do not strongly predict or explain changes in inflation, and vice versa.\n"
   ]
  },
  {
   "cell_type": "code",
   "execution_count": 34,
   "id": "fe7fafc7",
   "metadata": {},
   "outputs": [
    {
     "name": "stdout",
     "output_type": "stream",
     "text": [
      "Real GDP growth (annual %) and Inflation, consumer prices (annual %) is  -0.177\n"
     ]
    }
   ],
   "source": [
    "# Calculate the correlation coefficient using pandas\n",
    "correlation = nigeria_dataset['Real GDP growth (annual %)'].corr(nigeria_dataset['Inflation, consumer prices (annual %)'])\n",
    "\n",
    "print(f'Real GDP growth (annual %) and Inflation, consumer prices (annual %) is  {correlation:.3}')"
   ]
  },
  {
   "cell_type": "markdown",
   "id": "a22841e8",
   "metadata": {},
   "source": [
    "3. **What are the correlation between other Economic indicators and the Real GDP growth (annual %) ?**\n",
    "\n",
    "\n",
    "    1. Real GDP growth vs Inflation, consumer prices (annual %): -0.18\n",
    "       - There is a negative correlation between Real GDP growth and inflation, suggesting that as inflation increases, GDP growth tends to decrease, although the correlation is not very strong.\n",
    "\n",
    "    2. Real GDP growth vs Exports of goods and services (% of GDP): 0.41\n",
    "       - There is a positive correlation between Real GDP growth and the percentage of GDP attributed to exports. This indicates that an increase in the contribution of exports to GDP is associated with higher GDP growth.\n",
    "\n",
    "    3. Real GDP growth vs Imports of goods and services (% of GDP): 0.05\n",
    "       - The correlation between Real GDP growth and the percentage of GDP attributed to imports is weakly positive, suggesting a minor influence of imports on GDP growth.\n",
    "\n",
    "    4. Real GDP growth vs Gross capital formation (% of GDP): 0.31\n",
    "       - There is a positive correlation between Real GDP growth and the percentage of GDP attributed to gross capital formation. This implies that higher levels of investment in the economy contribute to GDP growth.\n",
    "\n",
    "    5. Real GDP growth vs Current account balance (Net, BoP, cur. US$): 0.38\n",
    "       - There is a positive correlation between Real GDP growth and the current account balance, indicating that a surplus in the current account is associated with higher GDP growth.\n",
    "\n",
    "    6. Real GDP growth vs General government final consumption expenditure (% of GDP): 0.048\n",
    "       - The correlation between Real GDP growth and government consumption expenditure as a percentage of GDP is very weak and close to zero, suggesting minimal influence on GDP growth.\n",
    "\n",
    "    7. Real GDP growth vs Household final consumption expenditure (% of GDP): 0.16\n",
    "       - There is a positive correlation between Real GDP growth and household consumption expenditure as a percentage of GDP, indicating that increased consumer spending is associated with higher GDP growth.\n",
    "\n",
    "    Note that exports of goods and services have the most significant positive influence on Real GDP growth based on the correlations."
   ]
  },
  {
   "cell_type": "code",
   "execution_count": 43,
   "id": "d42d88e0",
   "metadata": {},
   "outputs": [],
   "source": [
    "def correlationTest():\n",
    "    testIndicator = [\n",
    "    'Inflation, consumer prices (annual %)',\n",
    "    'Exports of goods and services (% of GDP)',\n",
    "    'Imports of goods and services (% of GDP)',\n",
    "    'Gross capital formation (% of GDP)',\n",
    "    'Current account balance (Net, BoP, cur. US$)',\n",
    "    'General government final consumption expenditure (% of GDP)',\n",
    "    'Household final consumption expenditure  (% of GDP)'\n",
    "    ]\n",
    "    \n",
    "    correlation = dict()\n",
    "    for i in testIndicator:\n",
    "        corr = nigeria_dataset['Real GDP growth (annual %)'].corr(nigeria_dataset[i])\n",
    "        correlation[f'Real GDP growth vs {i}'] = f'{corr:.2}'\n",
    "        \n",
    "    return correlation"
   ]
  },
  {
   "cell_type": "code",
   "execution_count": 44,
   "id": "8bb2fc1b",
   "metadata": {},
   "outputs": [
    {
     "data": {
      "text/plain": [
       "{'Real GDP growth vs Inflation, consumer prices (annual %)': '-0.18',\n",
       " 'Real GDP growth vs Exports of goods and services (% of GDP)': '0.41',\n",
       " 'Real GDP growth vs Imports of goods and services (% of GDP)': '0.05',\n",
       " 'Real GDP growth vs Gross capital formation (% of GDP)': '0.31',\n",
       " 'Real GDP growth vs Current account balance (Net, BoP, cur. US$)': '0.38',\n",
       " 'Real GDP growth vs General government final consumption expenditure (% of GDP)': '0.048',\n",
       " 'Real GDP growth vs Household final consumption expenditure  (% of GDP)': '0.16'}"
      ]
     },
     "execution_count": 44,
     "metadata": {},
     "output_type": "execute_result"
    }
   ],
   "source": [
    "correlationTest()"
   ]
  },
  {
   "cell_type": "code",
   "execution_count": 55,
   "id": "659a8b70",
   "metadata": {},
   "outputs": [
    {
     "data": {
      "image/png": "[encoded data removed]",
      "text/plain": [
       "<Figure size 936x936 with 1 Axes>"
      ]
     },
     "metadata": {
      "needs_background": "light"
     },
     "output_type": "display_data"
    }
   ],
   "source": [
    "# lets plot our scatter plot for visualization\n",
    "fig, ax = plt.subplots(figsize=(13, 13))\n",
    "\n",
    "ax.scatter(gdp_growth, exports_gdp, color='green', label='GDP Growth vs Export', marker='o')\n",
    "\n",
    "ax.set_xlabel('Real GDP Growth (annual %)')\n",
    "ax.set_ylabel('Exports of goods and services (% of GDP)')\n",
    "ax.set_title('Scatter Plot: Real GDP Growth vs Exports Trends in Nigeria', loc='left')\n",
    "ax.grid(True)\n",
    "\n",
    "ax.legend()\n",
    "\n",
    "# Calculate the regression line\n",
    "regression_model = np.polyfit(gdp_growth, exports_gdp, 1)\n",
    "regression_line = np.poly1d(regression_model)\n",
    "\n",
    "# Plot the regression line\n",
    "x_range = np.linspace(min(gdp_growth), max(gdp_growth)+5, 100)  # Create a range of x values\n",
    "ax.plot(x_range, regression_line(x_range), color='red', linestyle='--', label='Regression Line')\n",
    "\n",
    "plt.legend()\n",
    "\n",
    "plt.show()\n"
   ]
  },
  {
   "cell_type": "code",
   "execution_count": 57,
   "id": "99d5a185",
   "metadata": {},
   "outputs": [],
   "source": [
    "#fig.savefig(\"GDP Growth vs Exports with regression line.png\")"
   ]
  },
  {
   "cell_type": "markdown",
   "id": "a5f03d52",
   "metadata": {},
   "source": [
    "\"The code is mine, while the English is courtesy of ChatGPT. Thanks for joining me on this analytical journey.\"\n",
    "\n",
    "Feel free to personalize it to your liking!"
   ]
  }
 ],
 "metadata": {
  "kernelspec": {
   "display_name": "Python 3 (ipykernel)",
   "language": "python",
   "name": "python3"
  },
  "language_info": {
   "codemirror_mode": {
    "name": "ipython",
    "version": 3
   },
   "file_extension": ".py",
   "mimetype": "text/x-python",
   "name": "python",
   "nbconvert_exporter": "python",
   "pygments_lexer": "ipython3",
   "version": "3.10.12"
  }
 },
 "nbformat": 4,
 "nbformat_minor": 5
}
